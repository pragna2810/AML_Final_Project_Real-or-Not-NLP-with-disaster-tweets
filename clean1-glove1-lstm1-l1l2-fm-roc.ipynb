{
 "cells": [
  {
   "cell_type": "code",
   "execution_count": 1,
   "metadata": {
    "_cell_guid": "b1076dfc-b9ad-4769-8c92-a6c4dae69d19",
    "_uuid": "8f2839f25d086af736a60e9eeb907d3b93b6e0e5"
   },
   "outputs": [
    {
     "name": "stdout",
     "output_type": "stream",
     "text": [
      "/kaggle/input/glove6b50dtxt/glove.6B.50d.txt\n",
      "/kaggle/input/fasttext-crawl-300d-2m/crawl-300d-2M.vec\n",
      "/kaggle/input/glove840b300dtxt/glove.840B.300d.txt\n",
      "/kaggle/input/nlp-getting-started/train.csv\n",
      "/kaggle/input/nlp-getting-started/test.csv\n",
      "/kaggle/input/nlp-getting-started/sample_submission.csv\n",
      "/kaggle/input/fasttext-wikinews/wiki-news-300d-1M.vec\n",
      "/kaggle/input/correct-submission/correct_submission.csv\n",
      "/kaggle/input/googlenewsvectorsnegative300/GoogleNews-vectors-negative300.bin.gz\n",
      "/kaggle/input/googlenewsvectorsnegative300/GoogleNews-vectors-negative300.bin\n"
     ]
    }
   ],
   "source": [
    "# This Python 3 environment comes with many helpful analytics libraries installed\n",
    "# It is defined by the kaggle/python docker image: https://github.com/kaggle/docker-python\n",
    "# For example, here's several helpful packages to load in \n",
    "\n",
    "import numpy as np # linear algebra\n",
    "import pandas as pd # data processing, CSV file I/O (e.g. pd.read_csv)\n",
    "from nltk.stem import PorterStemmer #normalize word form\n",
    "from nltk.probability import FreqDist #frequency word count\n",
    "from nltk.stem import WordNetLemmatizer\n",
    "from nltk.corpus import stopwords #stop words\n",
    "from nltk.tokenize import word_tokenize\n",
    "from nltk.corpus import wordnet\n",
    "from nltk.probability import FreqDist \n",
    "import matplotlib.pyplot as plt\n",
    "%matplotlib inline\n",
    "import string\n",
    "import re\n",
    "from sklearn.model_selection import train_test_split\n",
    "\n",
    "# Input data files are available in the \"../input/\" directory.\n",
    "# For example, running this (by clicking run or pressing Shift+Enter) will list all files under the input directory\n",
    "\n",
    "import os\n",
    "for dirname, _, filenames in os.walk('/kaggle/input'):\n",
    "    for filename in filenames:\n",
    "        print(os.path.join(dirname, filename))\n",
    "\n",
    "# Any results you write to the current directory are saved as output."
   ]
  },
  {
   "cell_type": "code",
   "execution_count": 2,
   "metadata": {
    "_cell_guid": "",
    "_uuid": ""
   },
   "outputs": [],
   "source": [
    "sample_submission = pd.read_csv(\"../input/nlp-getting-started/sample_submission.csv\")\n",
    "train = pd.read_csv(\"../input/nlp-getting-started/train.csv\")\n",
    "test = pd.read_csv(\"../input/nlp-getting-started/test.csv\")"
   ]
  },
  {
   "cell_type": "markdown",
   "metadata": {},
   "source": [
    "# The functions used for text preprosessing"
   ]
  },
  {
   "cell_type": "code",
   "execution_count": 3,
   "metadata": {},
   "outputs": [],
   "source": [
    "def text_cleaning_hyperlink(text,rep):\n",
    "    \n",
    "    #remove hyper link\n",
    "    return re.sub(r\"http\\S+\",\"{}\".format(rep),text) #remove hyperlink"
   ]
  },
  {
   "cell_type": "code",
   "execution_count": 4,
   "metadata": {},
   "outputs": [],
   "source": [
    "# REPLACE_BY_SPACE_RE = re.compile('[/(){}\\[\\]\\|@,;]')\n",
    "# REPLACE_BY_SPACE_RE.sub(' ', text)"
   ]
  },
  {
   "cell_type": "code",
   "execution_count": 5,
   "metadata": {},
   "outputs": [],
   "source": [
    "# remove punctuation marks\n",
    "import string\n",
    "def text_cleaning_punctuation(text):\n",
    "    \n",
    "    translator =  str.maketrans(string.punctuation, ' '*len(string.punctuation)) #remove punctuation\n",
    "    \n",
    "    \n",
    "    return text.translate(translator)"
   ]
  },
  {
   "cell_type": "code",
   "execution_count": 6,
   "metadata": {},
   "outputs": [],
   "source": [
    "# text_cleaning_punctuation('!text*o')"
   ]
  },
  {
   "cell_type": "code",
   "execution_count": 7,
   "metadata": {},
   "outputs": [],
   "source": [
    "# clean stopwords\n",
    "\n",
    "def text_cleaning_stopwords(text):\n",
    "    \n",
    "    stop_words = set(stopwords.words('english'))\n",
    "    \n",
    "    word_token = word_tokenize(text)\n",
    "    \n",
    "    filtered_sentence = [w for w in word_token if not w in stop_words]\n",
    "    \n",
    "    return ' '.join(filtered_sentence) #return string of no stopwords\n"
   ]
  },
  {
   "cell_type": "code",
   "execution_count": 8,
   "metadata": {},
   "outputs": [],
   "source": [
    "# convert all letters into lowercase ones\n",
    "\n",
    "def text_cleaning_lowercase(text):\n",
    "    \n",
    "    return text.lower()"
   ]
  },
  {
   "cell_type": "code",
   "execution_count": 9,
   "metadata": {},
   "outputs": [],
   "source": [
    "def text_extract(text_lst):\n",
    "    txt = []\n",
    "    for i,x in enumerate(text_lst):\n",
    "        \n",
    "        for j,p in enumerate(x):\n",
    "            \n",
    "            txt.append(p)\n",
    "    \n",
    "    return txt\n",
    "    "
   ]
  },
  {
   "cell_type": "code",
   "execution_count": 10,
   "metadata": {},
   "outputs": [],
   "source": [
    "# remove digits from the text\n",
    "\n",
    "def remove_digits(txt):\n",
    "    \n",
    "    no_digits = ''.join(i for i in txt if not i.isdigit())\n",
    "    \n",
    "    return no_digits"
   ]
  },
  {
   "cell_type": "code",
   "execution_count": 11,
   "metadata": {},
   "outputs": [],
   "source": [
    "from nltk import pos_tag, word_tokenize\n",
    "ps = PorterStemmer()\n",
    "wnl = WordNetLemmatizer()\n",
    "\n",
    "\n",
    "def word_lemmatizer_1(sentence):\n",
    "    \n",
    "    n_sentence = []\n",
    "    \n",
    "    for word, tag in pos_tag(word_tokenize(sentence)):\n",
    "    \n",
    "        wntag = tag[0].lower()\n",
    "    \n",
    "        if wntag in ['a', 'r', 'n', 'v']:\n",
    "        \n",
    "            wntag = wntag\n",
    "        else:\n",
    "        \n",
    "            wntag = None\n",
    "        \n",
    "        if not wntag:\n",
    "            \n",
    "            lemma = wnl.lemmatize(word)\n",
    "        \n",
    "        else:\n",
    "            \n",
    "            lemma = wnl.lemmatize(word,wntag)\n",
    "        \n",
    "        n_sentence.append(lemma)\n",
    "        \n",
    "    \n",
    "    n_s = ' '.join(n_sentence)\n",
    "    \n",
    "    return n_s\n"
   ]
  },
  {
   "cell_type": "code",
   "execution_count": 12,
   "metadata": {},
   "outputs": [],
   "source": [
    "from nltk import pos_tag, word_tokenize\n",
    "ps = PorterStemmer()\n",
    "wnl = WordNetLemmatizer()\n",
    "\n",
    "\n",
    "def word_lemmatizer_2(sentence):\n",
    "    \n",
    "    n_sentence = []\n",
    "    \n",
    "    for word, tag in pos_tag(word_tokenize(sentence)):\n",
    "    \n",
    "        wntag = tag[0].lower()\n",
    "    \n",
    "        if wntag in ['a', 'r', 'n']:\n",
    "        \n",
    "            wntag = wntag\n",
    "        else:\n",
    "        \n",
    "            wntag = None\n",
    "        \n",
    "        if not wntag:\n",
    "            \n",
    "            lemma = wnl.lemmatize(word)\n",
    "        \n",
    "        else:\n",
    "            \n",
    "            lemma = wnl.lemmatize(word,wntag)\n",
    "        \n",
    "        n_sentence.append(lemma)\n",
    "        \n",
    "    \n",
    "    n_s = ' '.join(n_sentence)\n",
    "    \n",
    "    return n_s"
   ]
  },
  {
   "cell_type": "code",
   "execution_count": 13,
   "metadata": {},
   "outputs": [],
   "source": [
    "def build_vocab(sentences, verbose =  True):\n",
    "    \"\"\"\n",
    "    :param sentences: list of list of words\n",
    "    :return: dictionary of words and their count\n",
    "    \"\"\"\n",
    "    vocab = {}\n",
    "    for sentence in tqdm(sentences, disable = (not verbose)):\n",
    "        for word in sentence:\n",
    "            try:\n",
    "                vocab[word] += 1\n",
    "            except KeyError:\n",
    "                vocab[word] = 1\n",
    "    return vocab\n",
    "\n",
    "#ref:https://www.kaggle.com/christofhenkel/how-to-preprocessing-when-using-embeddings"
   ]
  },
  {
   "cell_type": "code",
   "execution_count": 14,
   "metadata": {},
   "outputs": [],
   "source": [
    "def load_embed(file):\n",
    "    def get_coefs(word,*arr): \n",
    "        return word, np.asarray(arr, dtype='float32')\n",
    "    \n",
    "    if file == '../input/fasttext-wikinews/wiki-news-300d-1M.vec':\n",
    "        embeddings_index = dict(get_coefs(*o.split(\" \")) for o in open(file) if len(o)>100)\n",
    "    else:\n",
    "        embeddings_index = dict(get_coefs(*o.split(\" \")) for o in open(file, encoding='latin'))\n",
    "        \n",
    "    return embeddings_index"
   ]
  },
  {
   "cell_type": "code",
   "execution_count": 15,
   "metadata": {},
   "outputs": [],
   "source": [
    "# from gensim.models import KeyedVectors\n",
    "# #check the intersection google embeding \n",
    "# news_path = \"../input/googlenewsvectorsnegative300/GoogleNews-vectors-negative300.bin\"\n",
    "# embeddings_index_google = KeyedVectors.load_word2vec_format(news_path, binary=True)"
   ]
  },
  {
   "cell_type": "code",
   "execution_count": 16,
   "metadata": {},
   "outputs": [],
   "source": [
    "glove = '../input/glove840b300dtxt/glove.840B.300d.txt'\n",
    "# wiki_news = '../input/fasttext-wikinews/wiki-news-300d-1M.vec'"
   ]
  },
  {
   "cell_type": "code",
   "execution_count": 17,
   "metadata": {},
   "outputs": [],
   "source": [
    "embedding_index_glove = load_embed(glove) #loading glove\n"
   ]
  },
  {
   "cell_type": "code",
   "execution_count": 18,
   "metadata": {},
   "outputs": [],
   "source": [
    "# embedding_index_fasttext = load_embed(wiki_news) #loading fasttext"
   ]
  },
  {
   "cell_type": "code",
   "execution_count": null,
   "metadata": {},
   "outputs": [],
   "source": []
  },
  {
   "cell_type": "code",
   "execution_count": 19,
   "metadata": {},
   "outputs": [
    {
     "name": "stderr",
     "output_type": "stream",
     "text": [
      "100%|██████████| 7613/7613 [00:00<00:00, 137881.88it/s]"
     ]
    },
    {
     "name": "stdout",
     "output_type": "stream",
     "text": [
      "{'Our': 25, 'Deeds': 1, 'are': 345, 'the': 2575, 'Reason': 5}\n"
     ]
    },
    {
     "name": "stderr",
     "output_type": "stream",
     "text": [
      "\n"
     ]
    }
   ],
   "source": [
    "#vocabulary without cleaning process\n",
    "import pandas as pd\n",
    "from tqdm import tqdm\n",
    "tqdm.pandas()\n",
    "sentences = train[\"text\"].apply(lambda x: x.split()).values\n",
    "vocab = build_vocab(sentences)\n",
    "print({k: vocab[k] for k in list(vocab)[:5]})"
   ]
  },
  {
   "cell_type": "code",
   "execution_count": 20,
   "metadata": {},
   "outputs": [],
   "source": [
    "import operator \n",
    "\n",
    "def check_coverage(vocab,embeddings_index):\n",
    "    a = {}\n",
    "    oov = {}\n",
    "    k = 0\n",
    "    i = 0\n",
    "    for word in tqdm(vocab):\n",
    "        try:\n",
    "            a[word] = embeddings_index[word]\n",
    "            k += vocab[word]\n",
    "        except:\n",
    "\n",
    "            oov[word] = vocab[word]\n",
    "            i += vocab[word]\n",
    "            pass\n",
    "\n",
    "    print('Found embeddings for {:.2%} of vocab'.format(len(a) / len(vocab)))\n",
    "    print('Found embeddings for  {:.2%} of all text'.format(k / (k + i)))\n",
    "    sorted_x = sorted(oov.items(), key=operator.itemgetter(1))[::-1]\n",
    "\n",
    "    return sorted_x"
   ]
  },
  {
   "cell_type": "code",
   "execution_count": null,
   "metadata": {},
   "outputs": [],
   "source": []
  },
  {
   "cell_type": "code",
   "execution_count": 21,
   "metadata": {},
   "outputs": [
    {
     "name": "stderr",
     "output_type": "stream",
     "text": [
      "100%|██████████| 31924/31924 [00:00<00:00, 515847.15it/s]"
     ]
    },
    {
     "name": "stdout",
     "output_type": "stream",
     "text": [
      "Found embeddings for 52.06% of vocab\n",
      "Found embeddings for  82.68% of all text\n"
     ]
    },
    {
     "name": "stderr",
     "output_type": "stream",
     "text": [
      "\n"
     ]
    }
   ],
   "source": [
    "oov_glove = check_coverage(vocab,embedding_index_glove)#without cleanning"
   ]
  },
  {
   "cell_type": "code",
   "execution_count": 22,
   "metadata": {},
   "outputs": [],
   "source": [
    "#our methord to clean the words"
   ]
  },
  {
   "cell_type": "code",
   "execution_count": 23,
   "metadata": {},
   "outputs": [],
   "source": [
    "#Clean the text"
   ]
  },
  {
   "cell_type": "code",
   "execution_count": 24,
   "metadata": {},
   "outputs": [],
   "source": [
    "train['text_clean'] = train.text.apply(lambda x: text_cleaning_stopwords(text_cleaning_punctuation(text_cleaning_hyperlink(remove_digits(x),'http'))))\n",
    "train['text_clean'] = train['text_clean'].apply(lambda x: list(set(x.split(' '))))\n",
    "train['text_clean'] = train['text_clean'].apply(lambda x: ' '.join(x))"
   ]
  },
  {
   "cell_type": "code",
   "execution_count": 25,
   "metadata": {},
   "outputs": [
    {
     "name": "stderr",
     "output_type": "stream",
     "text": [
      "100%|██████████| 7613/7613 [00:00<00:00, 188378.21it/s]\n"
     ]
    }
   ],
   "source": [
    "sentences_clean = train['text_clean'].apply(lambda x: x.split())\n",
    "vocab_clean = build_vocab(sentences_clean)"
   ]
  },
  {
   "cell_type": "code",
   "execution_count": 26,
   "metadata": {},
   "outputs": [
    {
     "name": "stderr",
     "output_type": "stream",
     "text": [
      "100%|██████████| 20730/20730 [00:00<00:00, 560036.60it/s]"
     ]
    },
    {
     "name": "stdout",
     "output_type": "stream",
     "text": [
      "Found embeddings for 81.77% of vocab\n",
      "Found embeddings for  94.02% of all text\n"
     ]
    },
    {
     "name": "stderr",
     "output_type": "stream",
     "text": [
      "\n"
     ]
    }
   ],
   "source": [
    "oov_text_clean_glove = check_coverage(vocab_clean,embedding_index_glove) #better performance using our cleanning #after applying cleanning without lemmatizer"
   ]
  },
  {
   "cell_type": "code",
   "execution_count": 27,
   "metadata": {},
   "outputs": [],
   "source": [
    "X_train_1, X_test_1, y_train_1, y_test_1 = train_test_split(train['text_clean'],train.target, test_size=0.3)"
   ]
  },
  {
   "cell_type": "code",
   "execution_count": 28,
   "metadata": {},
   "outputs": [
    {
     "name": "stderr",
     "output_type": "stream",
     "text": [
      "Using TensorFlow backend.\n"
     ]
    }
   ],
   "source": [
    "from keras.preprocessing.text import Tokenizer\n",
    "from keras.preprocessing.sequence import pad_sequences\n",
    "## Tokenize the sentences\n",
    "max_features = 2000\n",
    "maxlen = max([len(i) for i in sentences_clean])\n",
    "embed_size = 300\n",
    "\n",
    "tokenizer = Tokenizer(num_words=max_features, filters='')\n",
    "tokenizer.fit_on_texts(list(X_train_1))\n",
    "\n",
    "X_train_token = tokenizer.texts_to_sequences(X_train_1)\n",
    "X_test_token = tokenizer.texts_to_sequences(X_test_1)\n",
    "\n",
    "## Pad the sentences \n",
    "X_train_sequence = pad_sequences(X_train_token, maxlen=maxlen)\n",
    "X_test_sequence = pad_sequences(X_test_token, maxlen=maxlen)"
   ]
  },
  {
   "cell_type": "code",
   "execution_count": 29,
   "metadata": {},
   "outputs": [],
   "source": [
    "word_index = tokenizer.word_index\n",
    "max_features = len(word_index)+1\n",
    "\n",
    "def load_embedding(word_index,embeddings_index):\n",
    "#     EMBEDDING_FILE = '../input/glove840b300dtxt/glove.840B.300d.txt''\n",
    "#     def get_coefs(word,*arr): return word, np.asarray(arr, dtype='float32')\n",
    "#     embeddings_index = dict(get_coefs(*o.split(\" \")) for o in open(EMBEDDING_FILE) if o.split(\" \")[0] in word_index)\n",
    "\n",
    "    all_embs = np.stack(embeddings_index.values())\n",
    "    emb_mean,emb_std = all_embs.mean(), all_embs.std()\n",
    "    embed_size = all_embs.shape[1]\n",
    "\n",
    "    embedding_matrix = np.random.normal(emb_mean, emb_std, (max_features, embed_size))\n",
    "    for word, i in word_index.items():\n",
    "        if i >= max_features: continue\n",
    "        embedding_vector = embeddings_index.get(word)\n",
    "        if embedding_vector is not None: embedding_matrix[i] = embedding_vector\n",
    "            \n",
    "    return embedding_matrix \n",
    "\n",
    "# ref: https://www.kaggle.com/gmhost/gru-capsule"
   ]
  },
  {
   "cell_type": "code",
   "execution_count": null,
   "metadata": {},
   "outputs": [],
   "source": []
  },
  {
   "cell_type": "code",
   "execution_count": 30,
   "metadata": {},
   "outputs": [
    {
     "name": "stderr",
     "output_type": "stream",
     "text": [
      "/opt/conda/lib/python3.6/site-packages/IPython/core/interactiveshell.py:3331: FutureWarning: arrays to stack must be passed as a \"sequence\" type such as list or tuple. Support for non-sequence iterables such as generators is deprecated as of NumPy 1.16 and will raise an error in the future.\n",
      "  exec(code_obj, self.user_global_ns, self.user_ns)\n"
     ]
    }
   ],
   "source": [
    "embedding_matrix_glove = load_embedding(word_index,embedding_index_glove)"
   ]
  },
  {
   "cell_type": "code",
   "execution_count": 31,
   "metadata": {},
   "outputs": [],
   "source": [
    "# embedding_matrix_google = load_embedding(word_index,embeddings_index_google)"
   ]
  },
  {
   "cell_type": "code",
   "execution_count": 32,
   "metadata": {},
   "outputs": [],
   "source": [
    "# embedding_matrix_google = load_glove(word_index,embeddings_index_google)"
   ]
  },
  {
   "cell_type": "code",
   "execution_count": 33,
   "metadata": {},
   "outputs": [
    {
     "name": "stdout",
     "output_type": "stream",
     "text": [
      "Model: \"sequential_1\"\n",
      "_________________________________________________________________\n",
      "Layer (type)                 Output Shape              Param #   \n",
      "=================================================================\n",
      "embedding_1 (Embedding)      (None, 26, 300)           3987600   \n",
      "_________________________________________________________________\n",
      "lstm_1 (LSTM)                (None, 32)                42624     \n",
      "_________________________________________________________________\n",
      "dropout_1 (Dropout)          (None, 32)                0         \n",
      "_________________________________________________________________\n",
      "dense_1 (Dense)              (None, 300)               9900      \n",
      "_________________________________________________________________\n",
      "dense_2 (Dense)              (None, 100)               30100     \n",
      "_________________________________________________________________\n",
      "dense_3 (Dense)              (None, 1)                 101       \n",
      "=================================================================\n",
      "Total params: 4,070,325\n",
      "Trainable params: 82,725\n",
      "Non-trainable params: 3,987,600\n",
      "_________________________________________________________________\n",
      "None\n",
      "Train on 3730 samples, validate on 1599 samples\n",
      "Epoch 1/20\n",
      "3730/3730 [==============================] - 3s 731us/step - loss: 2.7320 - accuracy: 0.5756 - val_loss: 2.3193 - val_accuracy: 0.5566\n",
      "Epoch 2/20\n",
      "3730/3730 [==============================] - 1s 230us/step - loss: 2.0212 - accuracy: 0.5810 - val_loss: 1.7429 - val_accuracy: 0.5566\n",
      "Epoch 3/20\n",
      "3730/3730 [==============================] - 1s 266us/step - loss: 1.5574 - accuracy: 0.6099 - val_loss: 1.3653 - val_accuracy: 0.7292\n",
      "Epoch 4/20\n",
      "3730/3730 [==============================] - 1s 225us/step - loss: 1.2296 - accuracy: 0.7273 - val_loss: 1.0689 - val_accuracy: 0.7761\n",
      "Epoch 5/20\n",
      "3730/3730 [==============================] - 1s 225us/step - loss: 0.9872 - accuracy: 0.7815 - val_loss: 0.9020 - val_accuracy: 0.7942\n",
      "Epoch 6/20\n",
      "3730/3730 [==============================] - 1s 221us/step - loss: 0.8673 - accuracy: 0.7995 - val_loss: 0.8201 - val_accuracy: 0.7930\n",
      "Epoch 7/20\n",
      "3730/3730 [==============================] - 1s 233us/step - loss: 0.8070 - accuracy: 0.7989 - val_loss: 0.7923 - val_accuracy: 0.7911\n",
      "Epoch 8/20\n",
      "3730/3730 [==============================] - 1s 238us/step - loss: 0.7524 - accuracy: 0.8137 - val_loss: 0.7373 - val_accuracy: 0.7986\n",
      "Epoch 9/20\n",
      "3730/3730 [==============================] - 1s 233us/step - loss: 0.7237 - accuracy: 0.8123 - val_loss: 0.7124 - val_accuracy: 0.7974\n",
      "Epoch 10/20\n",
      "3730/3730 [==============================] - 1s 222us/step - loss: 0.7155 - accuracy: 0.8040 - val_loss: 0.7193 - val_accuracy: 0.7961\n",
      "Epoch 11/20\n",
      "3730/3730 [==============================] - 1s 220us/step - loss: 0.6975 - accuracy: 0.8062 - val_loss: 0.6847 - val_accuracy: 0.7986\n",
      "Epoch 12/20\n",
      "3730/3730 [==============================] - 1s 229us/step - loss: 0.6865 - accuracy: 0.8067 - val_loss: 0.6767 - val_accuracy: 0.8005\n",
      "Epoch 13/20\n",
      "3730/3730 [==============================] - 1s 233us/step - loss: 0.6550 - accuracy: 0.8180 - val_loss: 0.6601 - val_accuracy: 0.8011\n",
      "Epoch 14/20\n",
      "3730/3730 [==============================] - 1s 228us/step - loss: 0.6461 - accuracy: 0.8214 - val_loss: 0.6513 - val_accuracy: 0.7999\n",
      "Epoch 15/20\n",
      "3730/3730 [==============================] - 1s 222us/step - loss: 0.6342 - accuracy: 0.8137 - val_loss: 0.6474 - val_accuracy: 0.8099\n",
      "Epoch 16/20\n",
      "3730/3730 [==============================] - 1s 217us/step - loss: 0.6266 - accuracy: 0.8223 - val_loss: 0.6316 - val_accuracy: 0.7999\n",
      "Epoch 17/20\n",
      "3730/3730 [==============================] - 1s 219us/step - loss: 0.6163 - accuracy: 0.8172 - val_loss: 0.6226 - val_accuracy: 0.8036\n",
      "Epoch 18/20\n",
      "3730/3730 [==============================] - 1s 220us/step - loss: 0.6182 - accuracy: 0.8083 - val_loss: 0.6552 - val_accuracy: 0.8005\n",
      "Epoch 19/20\n",
      "3730/3730 [==============================] - 1s 220us/step - loss: 0.6055 - accuracy: 0.8236 - val_loss: 0.6258 - val_accuracy: 0.8080\n",
      "Epoch 20/20\n",
      "3730/3730 [==============================] - 1s 221us/step - loss: 0.5971 - accuracy: 0.8123 - val_loss: 0.6115 - val_accuracy: 0.8093\n",
      "2284/2284 [==============================] - 0s 159us/step\n",
      "Accuracy: 0.792469322681427\n"
     ]
    }
   ],
   "source": [
    "from keras.models import Sequential\n",
    "from keras.layers import Dense, LSTM, Embedding,Dropout\n",
    "from keras.regularizers import l2\n",
    " \n",
    "model_2 = Sequential()\n",
    "model_2.add(Embedding(max_features,\n",
    "                    embed_size,  # Embedding size\n",
    "                    weights=[embedding_matrix_glove],\n",
    "                    input_length=maxlen,\n",
    "                    trainable=False))\n",
    "#model_2.add(LSTM(100))\n",
    "model_2.add(LSTM(32, kernel_regularizer=l2(0.01), recurrent_regularizer=l2(0.01), bias_regularizer=l2(0.01)))\n",
    "model_2.add(Dropout(0.5))\n",
    "model_2.add(Dense(units=300, activation='sigmoid'))#nodes matter\n",
    "model_2.add(Dense(units=100, activation='sigmoid'))#nodes matter\n",
    "model_2.add(Dense(units=1, activation='sigmoid'))\n",
    " \n",
    "model_2.compile(loss='binary_crossentropy', optimizer='adam', metrics=['accuracy'])\n",
    "print(model_2.summary())\n",
    " \n",
    "history =  model_2.fit(X_train_sequence, y_train_1, epochs=20, validation_split=0.3,batch_size=200, verbose=1)#batch size matter\n",
    " \n",
    "scores = model_2.evaluate(X_test_sequence, y_test_1, verbose=1)\n",
    "print(\"Accuracy:\", scores[1])"
   ]
  },
  {
   "cell_type": "code",
   "execution_count": 34,
   "metadata": {},
   "outputs": [
    {
     "data": {
      "image/png": "[encoded data removed]",
      "text/plain": [
       "<Figure size 432x288 with 1 Axes>"
      ]
     },
     "metadata": {
      "needs_background": "light"
     },
     "output_type": "display_data"
    }
   ],
   "source": [
    "from matplotlib import pyplot\n",
    "\n",
    "pyplot.plot(history.history['loss'])\n",
    "pyplot.plot(history.history['val_loss'])\n",
    "pyplot.title('Model train vs validation loss')\n",
    "pyplot.ylabel('Loss')\n",
    "pyplot.xlabel('Epoch')\n",
    "pyplot.legend(['train_loss', 'validation_loss'], loc='center right')\n",
    "pyplot.ylim(0.00, 2.00)\n",
    "#pyplot.xlim(0,10)\n",
    "pyplot.show()"
   ]
  },
  {
   "cell_type": "code",
   "execution_count": 35,
   "metadata": {},
   "outputs": [
    {
     "data": {
      "image/png": "[encoded data removed]",
      "text/plain": [
       "<Figure size 432x288 with 1 Axes>"
      ]
     },
     "metadata": {
      "needs_background": "light"
     },
     "output_type": "display_data"
    }
   ],
   "source": [
    "pyplot.plot(history.history['accuracy'])\n",
    "pyplot.plot(history.history['val_accuracy'])\n",
    "pyplot.title('Model train vs validation accuracy')\n",
    "pyplot.ylabel('Accuracy')\n",
    "pyplot.xlabel('Epoch')\n",
    "pyplot.legend(['train_accuracy', 'val_accuracy'], loc='center right')\n",
    "pyplot.ylim(0.00, 1.00)\n",
    "#pyplot.xlim(0,10)\n",
    "pyplot.show()"
   ]
  },
  {
   "cell_type": "code",
   "execution_count": 36,
   "metadata": {},
   "outputs": [],
   "source": [
    "test['text_clean'] = test.text.apply(lambda x: text_cleaning_stopwords(text_cleaning_punctuation(text_cleaning_hyperlink(remove_digits(x),'http'))))\n",
    "test['text_clean'] = test['text_clean'].apply(lambda x: list(set(x.split(' '))))\n",
    "test['text_clean'] = test['text_clean'].apply(lambda x: ' '.join(x))"
   ]
  },
  {
   "cell_type": "code",
   "execution_count": 37,
   "metadata": {},
   "outputs": [],
   "source": [
    "\n",
    "X_test_test_token = tokenizer.texts_to_sequences(test['text_clean'])\n",
    "\n",
    "## Pad the sentences \n",
    "X_test_tes_sequence = pad_sequences(X_test_test_token, maxlen=maxlen)"
   ]
  },
  {
   "cell_type": "code",
   "execution_count": 38,
   "metadata": {},
   "outputs": [],
   "source": [
    "y_predicted = model_2.predict_classes(X_test_tes_sequence)\n"
   ]
  },
  {
   "cell_type": "code",
   "execution_count": 39,
   "metadata": {},
   "outputs": [
    {
     "data": {
      "text/plain": [
       "array([[1],\n",
       "       [1],\n",
       "       [0],\n",
       "       ...,\n",
       "       [1],\n",
       "       [1],\n",
       "       [0]], dtype=int32)"
      ]
     },
     "execution_count": 39,
     "metadata": {},
     "output_type": "execute_result"
    }
   ],
   "source": [
    "y_predicted"
   ]
  },
  {
   "cell_type": "code",
   "execution_count": 40,
   "metadata": {},
   "outputs": [],
   "source": [
    "sample_submission[\"target\"] = y_predicted"
   ]
  },
  {
   "cell_type": "code",
   "execution_count": 41,
   "metadata": {},
   "outputs": [],
   "source": [
    "sample_submission.to_csv(\"submission.csv\", index = False)"
   ]
  },
  {
   "cell_type": "markdown",
   "metadata": {},
   "source": [
    "Evaluate with the completition test lable data."
   ]
  },
  {
   "cell_type": "code",
   "execution_count": 42,
   "metadata": {},
   "outputs": [],
   "source": [
    "correct_submission = pd.read_csv(\"../input/correct-submission/correct_submission.csv\")\n",
    "#correct_submission"
   ]
  },
  {
   "cell_type": "code",
   "execution_count": 43,
   "metadata": {},
   "outputs": [
    {
     "name": "stdout",
     "output_type": "stream",
     "text": [
      "accuracy = 0.7937, f1 = 0.7884, precision = 0.8008, recall = 0.7937\n"
     ]
    }
   ],
   "source": [
    "from sklearn.metrics import accuracy_score, f1_score, precision_score, recall_score, classification_report\n",
    "\n",
    "def scores_function(y_test, y_predicted):  \n",
    "    precision = precision_score(y_test, y_predicted, pos_label=None,\n",
    "                                    average='weighted')             \n",
    "    recall = recall_score(y_test, y_predicted, pos_label=None,\n",
    "                              average='weighted')\n",
    "    f1 = f1_score(y_test, y_predicted, pos_label=None, average='weighted')\n",
    "    accuracy = accuracy_score(y_test, y_predicted)\n",
    "    print(\"accuracy = %.4f, f1 = %.4f, precision = %.4f, recall = %.4f\" % (accuracy, f1, precision, recall))\n",
    "    return accuracy, f1, precision, recall\n",
    "\n",
    "\n",
    "accuracy, f1, precision, recall, = scores_function(correct_submission.target, sample_submission.target)"
   ]
  },
  {
   "cell_type": "code",
   "execution_count": 44,
   "metadata": {},
   "outputs": [
    {
     "data": {
      "image/png": "[encoded data removed]",
      "text/plain": [
       "<Figure size 576x576 with 2 Axes>"
      ]
     },
     "metadata": {
      "needs_background": "light"
     },
     "output_type": "display_data"
    }
   ],
   "source": [
    "import itertools\n",
    "from sklearn.metrics import confusion_matrix\n",
    "\n",
    "def plot_confusion_matrix(cm, classes,\n",
    "                          normalize=False,\n",
    "                          title='Confusion Matrix',\n",
    "                          cmap=plt.cm.spring):\n",
    "    if normalize:\n",
    "        cm = cm.astype('float') / cm.sum(axis=1)[:, np.newaxis]\n",
    "    plt.imshow(cm, interpolation='nearest', cmap=cmap)\n",
    "    plt.title(title, fontsize=26)\n",
    "    plt.colorbar()\n",
    "    tick_marks = np.arange(len(classes))\n",
    "    plt.xticks(tick_marks, classes, fontsize=20)\n",
    "    plt.yticks(tick_marks, classes, fontsize=20)\n",
    "   \n",
    "    fmt = '.2f' if normalize else 'd'\n",
    "    thresh = cm.max() / 2.\n",
    "\n",
    "    for i, j in itertools.product(range(cm.shape[0]), range(cm.shape[1])):\n",
    "        plt.text(j, i, format(cm[i, j], fmt), horizontalalignment=\"center\",\n",
    "                 color=\"white\" if cm[i, j] < thresh else \"black\", fontsize=40)\n",
    "   \n",
    "    plt.tight_layout()\n",
    "    plt.ylabel('True labels', fontsize=24)\n",
    "    plt.xlabel('Predicted labels', fontsize=24)\n",
    "\n",
    "    return plt\n",
    "\n",
    "\n",
    "\n",
    "\n",
    "\n",
    "\n",
    "def scores(y_test, y_predicted):  \n",
    "    accuracy = accuracy_score(y_test, y_predicted)\n",
    "    f1 = f1_score(y_test, y_predicted, pos_label = None, average = 'weighted')\n",
    "    precision = precision_score(y_test, y_predicted, pos_label = None, average = 'weighted')            \n",
    "    recall = recall_score(y_test, y_predicted, pos_label = None, average = 'weighted')\n",
    "    print(\"accuracy = %.4f, f1 = %.4f, precision = %.4f, recall = %.4f\" % (accuracy, f1, precision, recall))\n",
    "    return accuracy, f1, precision, recall\n",
    "\n",
    "\n",
    "cm = confusion_matrix(correct_submission.target, sample_submission.target)\n",
    "fig = plt.figure(figsize=(8, 8))\n",
    "plot = plot_confusion_matrix(cm, classes=['Irrelevant','Disaster'], normalize=False, title='Confusion matrix\\n for LSTM with GloVe')\n",
    "plt.show()\n"
   ]
  },
  {
   "cell_type": "code",
   "execution_count": 45,
   "metadata": {},
   "outputs": [
    {
     "data": {
      "image/png": "[encoded data removed]",
      "text/plain": [
       "<Figure size 720x576 with 1 Axes>"
      ]
     },
     "metadata": {},
     "output_type": "display_data"
    }
   ],
   "source": [
    "from sklearn.metrics import roc_curve\n",
    "import seaborn as sns\n",
    "\n",
    "# predict_proba gives the probabilities for the target (0 and 1 in our case) as a list (array).\n",
    "# The number of probabilities for each row is equal to the number of categories in target variable (2 in our case).\n",
    "\n",
    "probabilities_LSTM = model_2.predict_proba(X_test_tes_sequence)\n",
    "\n",
    "\n",
    "# Using [:,1] gives us the probabilities of getting the output as 1\n",
    "\n",
    "probability_of_ones_LSTM = probabilities_LSTM\n",
    "#probability_of_ones_LSTM = probabilities_LSTM[:,1]\n",
    "# probability_of_ones_LogisticRegression = probabilities_LogisticRegression[:,1]\n",
    "\n",
    "\n",
    "# roc_curve returns:\n",
    "# - false positive rates (FPrates), i.e., the false positive rate of predictions with score >= thresholds[i]\n",
    "# - true positive rates (TPrates), i.e., the true positive rate of predictions with score >= thresholds[i]\n",
    "# - thresholds\n",
    "\n",
    "FPrates_LSTM, TPrates_LSTM, thresholds_LSTM = roc_curve(correct_submission.target, probability_of_ones_LSTM)\n",
    "\n",
    "#FPrates_LSTM, TPrates_LSTM, thresholds_LSTM = roc_curve(y_test_1, probability_of_ones_LSTM)\n",
    "# FPrates_LogisticRegression, TPrates_LogisticRegression, thresholds_LogisticRegression = roc_curve(y_test, probability_of_ones_LogisticRegression)\n",
    "\n",
    "\n",
    "\n",
    "# plotting the ROC Curve to visualize all the methods\n",
    "\n",
    "sns.set_style('whitegrid')\n",
    "plt.figure(figsize = (10, 8))\n",
    "\n",
    "plt.plot(FPrates_LSTM, TPrates_LSTM, label = 'LSTM GloVe', color = 'orange')\n",
    "# plt.plot(FPrates_LogisticRegression, TPrates_LogisticRegression, label = 'Logistic Regression')\n",
    "\n",
    "\n",
    "plt.plot([0, 1], [0, 1], color = 'green', linestyle = '--')\n",
    "plt.axis([0, 1, 0, 1])\n",
    "plt.xlabel('False Positive Rate', fontsize = 14)\n",
    "plt.ylabel('True Positive Rate', fontsize = 14)\n",
    "plt.title('ROC Curve', fontsize = 14)\n",
    "plt.legend(loc = \"lower right\")\n",
    "plt.show()\n",
    "\n",
    "\n"
   ]
  }
 ],
 "metadata": {
  "kernelspec": {
   "display_name": "Python 3",
   "language": "python",
   "name": "python3"
  },
  "language_info": {
   "codemirror_mode": {
    "name": "ipython",
    "version": 3
   },
   "file_extension": ".py",
   "mimetype": "text/x-python",
   "name": "python",
   "nbconvert_exporter": "python",
   "pygments_lexer": "ipython3",
   "version": "3.6.6"
  }
 },
 "nbformat": 4,
 "nbformat_minor": 4
}
